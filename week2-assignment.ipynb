{
 "cells": [
  {
   "cell_type": "code",
   "execution_count": null,
   "id": "c3708c9b-3e15-450e-be2d-6b1e16fe57fd",
   "metadata": {},
   "outputs": [],
   "source": [
    "\"\"\"\n",
    "Chapter 1 programming excercises\n",
    "Name Hung Duong\n",
    "Date Jan 17 2025\n",
    "\"\"\""
   ]
  },
  {
   "cell_type": "code",
   "execution_count": null,
   "id": "3e7e87ce-3071-44d9-8338-9c2abbd80e77",
   "metadata": {},
   "outputs": [],
   "source": [
    "\"\"\"\n",
    "Program myinfo.py\n",
    "Objective: Displaying my name, address and phone number\n",
    "\"\"\""
   ]
  },
  {
   "cell_type": "code",
   "execution_count": 8,
   "id": "48ee8a3e-eef8-4b15-9200-e0fd491214ec",
   "metadata": {},
   "outputs": [
    {
     "name": "stdout",
     "output_type": "stream",
     "text": [
      "name: Hung Duong\n",
      "Address: 111 s State street, Salt Lake City, UT 84000\n",
      "Number: (801) 108-0188\n"
     ]
    }
   ],
   "source": [
    "#Input my personal information\n",
    "name ='Hung Duong'\n",
    "address = '111 s State street, Salt Lake City, UT 84000'\n",
    "contact_number = '(801) 108-0188'\n",
    "\n",
    "#Execution\n",
    "print('name:', name)\n",
    "print('Address:', address)\n",
    "print('Number:', contact_number)"
   ]
  },
  {
   "cell_type": "code",
   "execution_count": null,
   "id": "84f8514e-07cb-4ab0-8071-2a479f66ac95",
   "metadata": {},
   "outputs": [],
   "source": [
    "\"\"\"\n",
    "Program rectangle.py\n",
    "Objective: Calculate the area of a rectangle\n",
    "\"\"\""
   ]
  },
  {
   "cell_type": "code",
   "execution_count": 10,
   "id": "008c0f00-c1af-485c-b964-ba086a28c6b1",
   "metadata": {},
   "outputs": [
    {
     "name": "stdout",
     "output_type": "stream",
     "text": [
      "Enter the width:  2\n",
      "Enter the height:  2\n"
     ]
    },
    {
     "name": "stdout",
     "output_type": "stream",
     "text": [
      "The area is 4.0 square unit\n"
     ]
    }
   ],
   "source": [
    "#Input rectangle width, height\n",
    "width = float(input('Enter the width: '))\n",
    "height = float(input('Enter the height: '))\n",
    "\n",
    "#Computation\n",
    "area = width * height\n",
    "\n",
    "#Execution\n",
    "print('The area is', area, 'square unit') "
   ]
  },
  {
   "cell_type": "code",
   "execution_count": null,
   "id": "01ee1fc9-69c9-4426-92e3-ce829227dcb3",
   "metadata": {},
   "outputs": [],
   "source": [
    "\"\"\"\n",
    "Program triangle.py\n",
    "Objective: Calculate the area of a triangle\n",
    "\"\"\""
   ]
  },
  {
   "cell_type": "code",
   "execution_count": 12,
   "id": "376b10bb-71d1-421c-8f79-e2e181d04d8e",
   "metadata": {},
   "outputs": [
    {
     "name": "stdout",
     "output_type": "stream",
     "text": [
      "Enter the triangle's base:  33\n",
      "Enter the triangle's height:  4\n"
     ]
    },
    {
     "name": "stdout",
     "output_type": "stream",
     "text": [
      "The area of the triangle is 66.0 square unit\n"
     ]
    }
   ],
   "source": [
    "#Input triangle's base, height\n",
    "base = float(input(\"Enter the triangle's base: \"))\n",
    "height = float(input(\"Enter the triangle's height: \"))\n",
    "\n",
    "#Computation\n",
    "area = 0.5*base*height\n",
    "\n",
    "#Execution\n",
    "print(\"The area of the triangle is\", area, \"square unit\")        "
   ]
  },
  {
   "cell_type": "code",
   "execution_count": null,
   "id": "c024ac05-4618-44c5-9b31-0c1a42e887ef",
   "metadata": {},
   "outputs": [],
   "source": [
    "\"\"\"\n",
    "Program circle.py\n",
    "Objective: Calculate the area of a circle\n",
    "\"\"\""
   ]
  },
  {
   "cell_type": "code",
   "execution_count": 20,
   "id": "44f0e1de-7311-4a33-a068-a34e51dbfdab",
   "metadata": {},
   "outputs": [
    {
     "name": "stdout",
     "output_type": "stream",
     "text": [
      "The circle's radius is:  6\n"
     ]
    },
    {
     "name": "stdout",
     "output_type": "stream",
     "text": [
      "The area of the circle is 59.1576 square unit\n"
     ]
    }
   ],
   "source": [
    "#Input radius of circle, \n",
    "circle_radius = float(input(\"The circle's radius is: \"))\n",
    "\n",
    "#Assigning variable\n",
    "pi = 3.14\n",
    "\n",
    "#Computation\n",
    "area = circle_radius*pi**2\n",
    "\n",
    "#Execution\n",
    "print(\"The area of the circle is\", area, \"square unit\")"
   ]
  },
  {
   "cell_type": "code",
   "execution_count": null,
   "id": "b8f252d1-5d3a-475e-8174-83a9b2046864",
   "metadata": {},
   "outputs": [],
   "source": [
    "\"\"\"\n",
    "Program cuboid.py\n",
    "Objective: Calculate the volumn of a cuboid\n",
    "\"\"\""
   ]
  },
  {
   "cell_type": "code",
   "execution_count": 18,
   "id": "70989f9f-58cf-4b33-9541-253d14015c60",
   "metadata": {},
   "outputs": [
    {
     "name": "stdout",
     "output_type": "stream",
     "text": [
      "Enter the cuboid's height:  4\n",
      "Enter the cuboid's width:  4\n",
      "Enter the cuboid's depth:  4\n"
     ]
    },
    {
     "name": "stdout",
     "output_type": "stream",
     "text": [
      "The cuboid's volumn is 64.0 cubic unit\n"
     ]
    }
   ],
   "source": [
    "#Input height, width, depth\n",
    "height = float(input(\"Enter the cuboid's height: \"))\n",
    "width = float(input(\"Enter the cuboid's width: \"))\n",
    "depth = float(input(\"Enter the cuboid's depth: \"))\n",
    "\n",
    "#Computation\n",
    "volumn = height*width*depth\n",
    "\n",
    "#Execution\n",
    "print(\"The cuboid's volumn is\", volumn, \"cubic unit\")"
   ]
  },
  {
   "cell_type": "code",
   "execution_count": null,
   "id": "989826cb-efc3-4faa-bf33-3011d072d6d4",
   "metadata": {},
   "outputs": [],
   "source": [
    "\"\"\"\n",
    "Chapter 2 programming excercises\n",
    "Name Hung Duong\n",
    "Date Jan 18 2025\n",
    "\"\"\""
   ]
  },
  {
   "cell_type": "code",
   "execution_count": null,
   "id": "10a17ed9-6b88-4583-aadd-69b4a5ac529d",
   "metadata": {},
   "outputs": [],
   "source": [
    "\"\"\"\n",
    "Program taxform.py\n",
    "Objective: Tax program, that round the tax input to 2 digits\n",
    "\"\"\""
   ]
  },
  {
   "cell_type": "code",
   "execution_count": 30,
   "id": "ddab971d-0b30-4645-87a1-9d17ad33df0a",
   "metadata": {},
   "outputs": [
    {
     "name": "stdout",
     "output_type": "stream",
     "text": [
      "Enter your tax Dollars:  3.366\n"
     ]
    },
    {
     "name": "stdout",
     "output_type": "stream",
     "text": [
      "Your rounded tax number to 2 decimals is 3.37\n"
     ]
    }
   ],
   "source": [
    "#Input Dollar amount\n",
    "number = float(input(\"Enter your tax Dollars: \"))\n",
    "\n",
    "#Execution\n",
    "print(\"Your rounded tax number to 2 decimals is\", round(number, 2))"
   ]
  },
  {
   "cell_type": "code",
   "execution_count": null,
   "id": "88cdc527-cf88-424b-89bd-7061ec8796bd",
   "metadata": {},
   "outputs": [],
   "source": [
    "\"\"\"\n",
    "Program taxform.py\n",
    "Objective: Progarm that calculate the area of a cube\n",
    "\"\"\""
   ]
  },
  {
   "cell_type": "code",
   "execution_count": 34,
   "id": "7479ba72-ef4d-4402-bfa0-6ca7c9670c71",
   "metadata": {},
   "outputs": [
    {
     "name": "stdout",
     "output_type": "stream",
     "text": [
      "The edge of the cube is:  3\n"
     ]
    },
    {
     "name": "stdout",
     "output_type": "stream",
     "text": [
      "The area of the cube is 54\n"
     ]
    }
   ],
   "source": [
    "#Input edge of a cube\n",
    "edge = int(input(\"The edge of the cube is: \"))\n",
    "\n",
    "#Computaion\n",
    "area = 6*edge**2\n",
    "\n",
    "#Execution\n",
    "print(\"The area of the cube is\", area)"
   ]
  },
  {
   "cell_type": "code",
   "execution_count": null,
   "id": "8572a696-5733-448c-a41e-7eb77d48d51a",
   "metadata": {},
   "outputs": [],
   "source": [
    "\"\"\"\n",
    "Program fivestar.py\n",
    "Objective: Price calculator for DVDs rental business\n",
    "\"\"\""
   ]
  },
  {
   "cell_type": "code",
   "execution_count": 36,
   "id": "a389d71f-ea03-4265-a3cd-1ff27f492274",
   "metadata": {},
   "outputs": [
    {
     "name": "stdout",
     "output_type": "stream",
     "text": [
      "Number of new DVDs is:  3\n",
      "Number of old DVDs is:  6\n"
     ]
    },
    {
     "name": "stdout",
     "output_type": "stream",
     "text": [
      "The total charge for the transaction is 21 Dollars\n"
     ]
    }
   ],
   "source": [
    "#Input number of old and new DVDs\n",
    "new_videos = int(input(\"Number of new DVDs is: \"))\n",
    "old_videos = int(input(\"Number of old DVDs is: \"))\n",
    "\n",
    "#Computation\n",
    "price_charge = new_videos*3 + old_videos*2\n",
    "\n",
    "#Execution\n",
    "print(\"The total charge for the transaction is\", price_charge, \"Dollars\")"
   ]
  },
  {
   "cell_type": "code",
   "execution_count": null,
   "id": "ffc7c243-faf3-440f-9c11-64887d72c5ff",
   "metadata": {},
   "outputs": [],
   "source": [
    "\"\"\"\n",
    "Program sphere.py\n",
    "Objective: Sphere calculator which output it's diameter, circumference, surface area and volume\n",
    "\"\"\""
   ]
  },
  {
   "cell_type": "code",
   "execution_count": 38,
   "id": "9ce0f610-e061-4818-9fdd-1cd037052c8d",
   "metadata": {},
   "outputs": [
    {
     "name": "stdout",
     "output_type": "stream",
     "text": [
      "The sphere's radius is:  3.5573\n"
     ]
    },
    {
     "name": "stdout",
     "output_type": "stream",
     "text": [
      "The sphere's diameter is 7.1146\n",
      "The sphere's circumference is 22.339844000000003\n",
      "The sphere's surface area is 158.9390541224\n",
      "The sphere's volume is 188.4646324098712\n"
     ]
    }
   ],
   "source": [
    "#Input sphere's radius\n",
    "radius = float(input(\"The sphere's radius is: \"))\n",
    "\n",
    "#Assigning variable and computation\n",
    "pi = 3.14\n",
    "diameter = 2*radius\n",
    "circumference = pi*diameter\n",
    "surface_area = 4*pi*(radius**2)\n",
    "volume = 4/3*pi*(radius**3)\n",
    "\n",
    "#Execution\n",
    "print(\"The sphere's diameter is\", diameter)\n",
    "print(\"The sphere's circumference is\", circumference)\n",
    "print(\"The sphere's surface area is\", surface_area)\n",
    "print(\"The sphere's volume is\", volume)"
   ]
  },
  {
   "cell_type": "code",
   "execution_count": null,
   "id": "acdcc1b0-081f-4b5b-bd2c-c45abeab167e",
   "metadata": {},
   "outputs": [],
   "source": [
    "\"\"\"\n",
    "Program momentum.py\n",
    "Objective: Momentum calculator\n",
    "\"\"\""
   ]
  },
  {
   "cell_type": "code",
   "execution_count": 42,
   "id": "effaf872-c8c3-43b8-a6e3-1c1d444a61f7",
   "metadata": {},
   "outputs": [
    {
     "name": "stdout",
     "output_type": "stream",
     "text": [
      "Mass of the object is:  3.527\n",
      "Velocity of the object is:  6.638\n"
     ]
    },
    {
     "name": "stdout",
     "output_type": "stream",
     "text": [
      "The object's momentum is 23.412226\n"
     ]
    }
   ],
   "source": [
    "#Input mass and velocity of object\n",
    "mass = float(input(\"Mass of the object is: \"))\n",
    "velocity = float(input(\"Velocity of the object is: \"))\n",
    "\n",
    "#Computation\n",
    "momentum = mass*velocity\n",
    "\n",
    "#Execution\n",
    "print(\"The object's momentum is\",momentum)"
   ]
  },
  {
   "cell_type": "code",
   "execution_count": 2,
   "id": "888e5d9e-730b-4233-93ce-28c612f562b1",
   "metadata": {},
   "outputs": [
    {
     "name": "stdout",
     "output_type": "stream",
     "text": [
      "github is so cool!\n"
     ]
    }
   ],
   "source": [
    "#This is to be deleted later\n",
    "print(\"github is so cool!\")"
   ]
  }
 ],
 "metadata": {
  "kernelspec": {
   "display_name": "Python 3",
   "language": "python",
   "name": "python3"
  },
  "language_info": {
   "codemirror_mode": {
    "name": "ipython",
    "version": 3
   },
   "file_extension": ".py",
   "mimetype": "text/x-python",
   "name": "python",
   "nbconvert_exporter": "python",
   "pygments_lexer": "ipython3",
   "version": "3.13.1"
  }
 },
 "nbformat": 4,
 "nbformat_minor": 5
}
